{
 "metadata": {
  "name": "",
  "signature": "sha256:1ff869e4a00541401fc08aedf82d23a29ed38d02bc981dd971b90ebdef93a19c"
 },
 "nbformat": 3,
 "nbformat_minor": 0,
 "worksheets": [
  {
   "cells": [
    {
     "cell_type": "code",
     "collapsed": false,
     "input": [
      "## originall from data_io.py\n",
      "import csv\n",
      "from operator import itemgetter\n",
      "import os\n",
      "import json\n",
      "import pickle\n",
      "import pandas as pd\n",
      "\n",
      "def get_paths():\n",
      "    paths = json.loads(open(\"SETTINGS.json\").read())\n",
      "    for key in paths:\n",
      "        paths[key] = os.path.expandvars(paths[key])\n",
      "    return paths\n",
      "\n",
      "def read_train():\n",
      "    train_path = get_paths()[\"train_path\"]\n",
      "    return pd.read_csv(train_path)\n",
      "\n",
      "def read_test():\n",
      "    test_path = get_paths()[\"test_path\"]\n",
      "    return pd.read_csv(test_path)\n",
      "\n",
      "def save_model(model):\n",
      "    out_path = get_paths()[\"model_path\"]\n",
      "    pickle.dump(model, open(out_path, \"w\"))\n",
      "\n",
      "def load_model():\n",
      "    in_path = get_paths()[\"model_path\"]\n",
      "    return pickle.load(open(in_path))\n",
      "\n",
      "def write_submission(recommendations, submission_file=None):\n",
      "    if submission_file is None:\n",
      "        submission_path = get_paths()[\"submission_path\"]\n",
      "    else:\n",
      "        path, file_name = os.path.split(get_paths()[\"submission_path\"])\n",
      "        submission_path = os.path.join(path, submission_file)\n",
      "    rows = [(srch_id, prop_id)\n",
      "        for srch_id, prop_id, rank_float\n",
      "        in sorted(recommendations, key=itemgetter(0,2))]\n",
      "    writer = csv.writer(open(submission_path, \"w\"), lineterminator=\"\\n\")\n",
      "    writer.writerow((\"SearchId\", \"PropertyId\"))\n",
      "    writer.writerows(rows)\n",
      "    \n",
      "def predict(features):\n",
      "    ## test data must be well-featured\n",
      "    #print(\"Reading test data\")\n",
      "    #test.fillna(0, inplace=True)\n",
      "    #feature_names = list(test.columns)\n",
      "    #feature_names.remove(\"date_time\")\n",
      "    #features = test[feature_names].values\n",
      "    print(\"Loading the classifier\")\n",
      "    classifier = load_model()\n",
      "    print(\"Making predictions\")\n",
      "    predictions = classifier.predict_proba(features)[:,1]\n",
      "    predictions = list(-1.0*predictions)\n",
      "    #recommendations = zip(test[\"srch_id\"], test[\"prop_id\"], predictions)\n",
      "    return zip(test[\"srch_id\"], test[\"prop_id\"], predictions)"
     ],
     "language": "python",
     "metadata": {},
     "outputs": [],
     "prompt_number": 1
    },
    {
     "cell_type": "markdown",
     "metadata": {},
     "source": [
      "#Training Data"
     ]
    },
    {
     "cell_type": "markdown",
     "metadata": {},
     "source": [
      "##Read Training Data"
     ]
    },
    {
     "cell_type": "code",
     "collapsed": false,
     "input": [
      "## speed performance test\n",
      "from datetime import datetime"
     ],
     "language": "python",
     "metadata": {},
     "outputs": [],
     "prompt_number": 2
    },
    {
     "cell_type": "code",
     "collapsed": false,
     "input": [
      "## Record the start time\n",
      "tstart = datetime.now()\n",
      "## Now begin to load the data\n",
      "print(\"Reading training data\")\n",
      "train = read_train()\n",
      "train.fillna(0, inplace=True)\n",
      "\n",
      "# print the time interval\n",
      "tend = datetime.now()\n",
      "print(\"Time used,\")\n",
      "print tend - tstart"
     ],
     "language": "python",
     "metadata": {},
     "outputs": [
      {
       "output_type": "stream",
       "stream": "stdout",
       "text": [
        "Reading training data\n",
        "Time used,"
       ]
      },
      {
       "output_type": "stream",
       "stream": "stdout",
       "text": [
        "\n",
        "0:01:43.124266\n"
       ]
      }
     ],
     "prompt_number": 3
    },
    {
     "cell_type": "markdown",
     "metadata": {},
     "source": [
      "##Feature Engineering"
     ]
    },
    {
     "cell_type": "code",
     "collapsed": false,
     "input": [
      "## this will print the number of samples and the number of features, \n",
      "## (i.e., the row number and column number of the dataset)\n",
      "train.shape"
     ],
     "language": "python",
     "metadata": {},
     "outputs": [
      {
       "metadata": {},
       "output_type": "pyout",
       "prompt_number": 4,
       "text": [
        "(9917530, 54)"
       ]
      }
     ],
     "prompt_number": 4
    },
    {
     "cell_type": "code",
     "collapsed": false,
     "input": [],
     "language": "python",
     "metadata": {},
     "outputs": []
    },
    {
     "cell_type": "code",
     "collapsed": false,
     "input": [
      "## Record the start time\n",
      "tstart = datetime.now()\n",
      "\n",
      "train_sample = train[:100000].fillna(value=0)\n",
      "\n",
      "feature_names = list(train_sample.columns)\n",
      "feature_names.remove(\"click_bool\")\n",
      "feature_names.remove(\"booking_bool\")\n",
      "feature_names.remove(\"gross_bookings_usd\")\n",
      "feature_names.remove(\"date_time\")\n",
      "feature_names.remove(\"position\")\n",
      "\n",
      "features = train_sample[feature_names].values\n",
      "target = train_sample[\"booking_bool\"].values\n",
      "# print the time interval\n",
      "tend = datetime.now()\n",
      "print(\"Time used,\")\n",
      "print tend - tstart"
     ],
     "language": "python",
     "metadata": {},
     "outputs": [
      {
       "output_type": "stream",
       "stream": "stdout",
       "text": [
        "Time used,\n",
        "0:00:00.096154\n"
       ]
      }
     ],
     "prompt_number": 11
    },
    {
     "cell_type": "code",
     "collapsed": false,
     "input": [
      "#feature_names\n",
      "features.shape"
     ],
     "language": "python",
     "metadata": {},
     "outputs": [
      {
       "metadata": {},
       "output_type": "pyout",
       "prompt_number": 53,
       "text": [
        "(100000, 49)"
       ]
      }
     ],
     "prompt_number": 53
    },
    {
     "cell_type": "markdown",
     "metadata": {},
     "source": [
      "##Training Model"
     ]
    },
    {
     "cell_type": "code",
     "collapsed": false,
     "input": [
      "from sklearn.ensemble import RandomForestClassifier\n",
      "\n",
      "## Record the start time\n",
      "tstart = datetime.now()\n",
      "\n",
      "print(\"Training the Classifier\")\n",
      "classifier = RandomForestClassifier(n_estimators=50, \n",
      "                                    verbose=2,\n",
      "                                    n_jobs=1,\n",
      "                                    min_samples_split=10,\n",
      "                                    random_state=1)\n",
      "classifier.fit(features, target)\n",
      "\n",
      "print(\"Saving the classifier\")\n",
      "save_model(classifier)\n",
      "\n",
      "# print the time interval\n",
      "tend = datetime.now()\n",
      "print(\"Time used,\")\n",
      "print tend - tstart"
     ],
     "language": "python",
     "metadata": {},
     "outputs": [],
     "prompt_number": 42
    },
    {
     "cell_type": "markdown",
     "metadata": {},
     "source": [
      "##Cross validation of the Training Set"
     ]
    },
    {
     "cell_type": "markdown",
     "metadata": {},
     "source": [
      "###Create Pseudo-test Dataset"
     ]
    },
    {
     "cell_type": "code",
     "collapsed": false,
     "input": [
      "test_sample = train[200000:300000].fillna(value=0)\n",
      "test_names = list([\"srch_id\", \"booking_bool\"])\n",
      "test_resp = test_sample[test_names].values\n",
      "\n",
      "t_feature_names = list(train_sample.columns)\n",
      "t_feature_names.remove(\"click_bool\")\n",
      "t_feature_names.remove(\"booking_bool\")\n",
      "t_feature_names.remove(\"gross_bookings_usd\")\n",
      "t_feature_names.remove(\"date_time\")\n",
      "t_feature_names.remove(\"position\")\n",
      "\n",
      "t_features = test_sample[t_feature_names].values\n",
      "t_target = test_sample[\"booking_bool\"].values"
     ],
     "language": "python",
     "metadata": {},
     "outputs": [],
     "prompt_number": 66
    },
    {
     "cell_type": "markdown",
     "metadata": {},
     "source": [
      "###Predict the Pseudo-test Dataset"
     ]
    },
    {
     "cell_type": "code",
     "collapsed": false,
     "input": [],
     "language": "python",
     "metadata": {},
     "outputs": []
    },
    {
     "cell_type": "markdown",
     "metadata": {},
     "source": [
      "##Predict the model & Give the ranking list"
     ]
    },
    {
     "cell_type": "code",
     "collapsed": false,
     "input": [
      "## Record the start time\n",
      "tstart = datetime.now()\n",
      "\n",
      "\n",
      "\n",
      "\n",
      "# print the time interval\n",
      "tend = datetime.now()\n",
      "print(\"Time used,\")\n",
      "print tend - tstart"
     ],
     "language": "python",
     "metadata": {},
     "outputs": [
      {
       "output_type": "stream",
       "stream": "stdout",
       "text": [
        "Reading test data\n",
        "Writing predictions to file"
       ]
      },
      {
       "output_type": "stream",
       "stream": "stdout",
       "text": [
        "\n",
        "Time used,"
       ]
      },
      {
       "output_type": "stream",
       "stream": "stdout",
       "text": [
        "\n",
        "0:01:31.045487\n"
       ]
      }
     ],
     "prompt_number": 20
    },
    {
     "cell_type": "code",
     "collapsed": false,
     "input": [
      "%pylab inline\n",
      "%load_ext rmagic "
     ],
     "language": "python",
     "metadata": {},
     "outputs": [
      {
       "output_type": "stream",
       "stream": "stdout",
       "text": [
        "Populating the interactive namespace from numpy and matplotlib\n",
        "The rmagic extension is already loaded. To reload it, use:\n",
        "  %reload_ext rmagic\n"
       ]
      }
     ],
     "prompt_number": 27
    },
    {
     "cell_type": "markdown",
     "metadata": {},
     "source": [
      "###Defining the DCG function"
     ]
    },
    {
     "cell_type": "code",
     "collapsed": false,
     "input": [
      "%%R\n",
      "## input data format\n",
      "# single srch id, propid, click, book\n",
      "maxDCG <- function (k, nbook, nclick){\n",
      "\tsum <-0\n",
      "\tfor(i in 1:k){\n",
      "\t\tif(i <= nbook){\n",
      "\t\t\trel <- 5\n",
      "\t\t}\n",
      "\t\telse if(i<=nclick){\n",
      "\t\t\trel <- 1\n",
      "\t\t}\n",
      "\t\telse{\n",
      "\t\t\trel <- 0\n",
      "\t\t}\n",
      "\t\tsum <- sum + (2^rel-1)/(log(i+1)/log(2))\n",
      "\t}\n",
      "\treturn(sum)\n",
      "}\n",
      "snDCG <- function (data){\n",
      "\tsum <- 0\n",
      "\tfor(i in 1:nrow(data)){\n",
      "\t\trel <- data[i,3] + 4*data[i,4]\n",
      "\t\tsum <- sum + (2^rel-1)/(log(i+1)/log(2))\n",
      "\t}\n",
      "\tsum <- sum/maxDCG(nrow(data), sum(data[,4]), sum(data[,3]))\n",
      "\treturn(sum)\n",
      "}\n",
      "nDCG <- function (data){\n",
      "\tstart <- 1\n",
      "\tdcgv <- NULL\n",
      "\tfor(i in 2:nrow(data)){\n",
      "\t\tif(data[i,1]!=data[i-1,1] | i==nrow(data)){\n",
      "\t\t\tdcgv <- c(dcgv, snDCG(data[start:(i-1),]))\n",
      "\t\t\tstart <- i\n",
      "\t\t}\n",
      "\t}\n",
      "\treturn(mean(dcgv))\n",
      "}"
     ],
     "language": "python",
     "metadata": {},
     "outputs": [],
     "prompt_number": 28
    },
    {
     "cell_type": "code",
     "collapsed": false,
     "input": [
      "%%R\n",
      "a <- read.csv('./Submissions/testOrderBenchmark.csv')"
     ],
     "language": "python",
     "metadata": {},
     "outputs": [],
     "prompt_number": 30
    },
    {
     "cell_type": "code",
     "collapsed": false,
     "input": [
      "%%R\n",
      "print(head(a))"
     ],
     "language": "python",
     "metadata": {},
     "outputs": [
      {
       "metadata": {},
       "output_type": "display_data",
       "text": [
        "  SearchId PropertyId\n",
        "1        2       3105\n",
        "2        2       6399\n",
        "3        2       7374\n",
        "4        2       7771\n",
        "5        2      12938\n",
        "6        2      25579\n"
       ]
      }
     ],
     "prompt_number": 33
    },
    {
     "cell_type": "code",
     "collapsed": false,
     "input": [
      "%%R\n",
      "my_ndcg <- function(rel, idx, orderby, k=1000){\n",
      "  d <- data.frame(rel=rel, idx=idx, one=1, o=orderby)\n",
      "  d <- d[order(d$idx, -d$rel),]\n",
      "  d$co <- with(d, unlist(tapply(one, idx, cumsum)))\n",
      "  d$v <- with(d, (2^rel-1)/(log(co+1, 2)))\n",
      "  #print(head(d, 20))\n",
      "  dcg0 <- with(d[d$co<=k,], unlist(tapply(v, idx, sum)))\n",
      "  d <- d[order(d$idx, d$o),]\n",
      "  d$co <- with(d, unlist(tapply(one, idx, cumsum)))\n",
      "  d$v <- with(d, (2^rel-1)/(log(co+1, 2)))\n",
      "  #print(head(d, 20))\n",
      "  #dcg<-sum(d$v[d$co<=k])\n",
      "  dcg <- with(d[d$co<=k,], unlist(tapply(v, idx, sum)))\n",
      "  return(mean(dcg/dcg0))\n",
      "}\n",
      "#sample call\n",
      "with(train, my_ndcg(rel, srch_id, -pred, 38))"
     ],
     "language": "python",
     "metadata": {},
     "outputs": [
      {
       "output_type": "stream",
       "stream": "stdout",
       "text": [
        "Error in with(train, my_ndcg(rel, srch_id, -pred, 38)) : \n",
        "  object 'train' not found\n"
       ]
      }
     ],
     "prompt_number": 34
    },
    {
     "cell_type": "code",
     "collapsed": false,
     "input": [],
     "language": "python",
     "metadata": {},
     "outputs": []
    }
   ],
   "metadata": {}
  }
 ]
}