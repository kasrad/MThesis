{
 "metadata": {
  "name": "",
  "signature": "sha256:657731a54e508216f5b8fe306242a38deb05c84424dddaf60d06844c6b1393b8"
 },
 "nbformat": 3,
 "nbformat_minor": 0,
 "worksheets": [
  {
   "cells": [
    {
     "cell_type": "code",
     "collapsed": false,
     "input": [
      "%load_ext rmagic"
     ],
     "language": "python",
     "metadata": {},
     "outputs": [],
     "prompt_number": 2
    },
    {
     "cell_type": "markdown",
     "metadata": {},
     "source": [
      "#Expedia Recommendation System"
     ]
    },
    {
     "cell_type": "markdown",
     "metadata": {},
     "source": [
      "##Team Member"
     ]
    },
    {
     "cell_type": "markdown",
     "metadata": {},
     "source": [
      "__Chenxiao Ma__(lovetomcx@gmail.com)\n",
      "\n",
      "__Zhaoying Yao__(yaozhaoying@ucla.edu)\n",
      "\n",
      "__Xu Wu__(wuxu@cs.ucla.edu)\n",
      "\n",
      "__Zibing Huang__(tercelhuang@gmail.com)"
     ]
    },
    {
     "cell_type": "markdown",
     "metadata": {},
     "source": [
      "##Proposal Review"
     ]
    },
    {
     "cell_type": "markdown",
     "metadata": {},
     "source": [
      "Our proposal said we were interested in three questions:\n",
      "\n",
      " 1. The correlations between different features.\n",
      " 2. Given all the other features as predictors, we build multiple models to predict the response values, namely `click_bool` and `booking_bool`.\n",
      " 3. Based on the model we choose from step 2, we build a ranking model to rank all the hotels. (e.g. weighted ranking as a na\u00efve solution)"
     ]
    },
    {
     "cell_type": "markdown",
     "metadata": {},
     "source": [
      "##Results"
     ]
    },
    {
     "cell_type": "markdown",
     "metadata": {},
     "source": [
      "<div align=\"center\">\n",
      "<img src=\"http://shawnhero.github.io/Graph/results_expedia.png\"/>\n",
      "</div>"
     ]
    },
    {
     "cell_type": "markdown",
     "metadata": {},
     "source": [
      "##Data Description"
     ]
    },
    {
     "cell_type": "markdown",
     "metadata": {},
     "source": [
      "###Categories of Features"
     ]
    },
    {
     "cell_type": "markdown",
     "metadata": {},
     "source": [
      "<div align=\"center\">\n",
      "<img src=\"http://shawnhero.github.io/Graph/feature_class.png\" style=\"width:900px\" />\n",
      "</div>"
     ]
    },
    {
     "cell_type": "markdown",
     "metadata": {},
     "source": [
      "###Two Responses to Predict: click_bool and booking_bool"
     ]
    },
    {
     "cell_type": "markdown",
     "metadata": {},
     "source": [
      "###Objective: Give a rank list for every search in the test data set"
     ]
    },
    {
     "cell_type": "markdown",
     "metadata": {},
     "source": [
      "##Work Flow Chart"
     ]
    },
    {
     "cell_type": "markdown",
     "metadata": {},
     "source": [
      "<div align=\"center\">\n",
      "<img src=\"http://shawnhero.github.io/Graph/Flow_chart.png\" style=\"height:650px\" />\n",
      "</div>"
     ]
    },
    {
     "cell_type": "markdown",
     "metadata": {},
     "source": [
      "##Feature Selection\n",
      "\n",
      "The original data set includes 54 features. We have to reduce the size of features to avoid overfitting and unreasonbale computing time."
     ]
    },
    {
     "cell_type": "markdown",
     "metadata": {},
     "source": []
    },
    {
     "cell_type": "markdown",
     "metadata": {},
     "source": [
      "###Deal with the Features having High Correlations\n",
      "\n",
      "_\"Well, find correlation matrix is trivial in R, type `cor(matrix)` and you are done...\"_\n",
      "\n",
      "Not really.\n",
      "\n",
      "By far, the challenges we have met:\n",
      "\n",
      "   1. Many(_Many!_) columns contain N/A values, which are indicated by `NULL` in the data set. (We need assign a value to calculate the correlation matrix)\n",
      "   2. Given two features with high correlations, which one should we choose?"
     ]
    },
    {
     "cell_type": "markdown",
     "metadata": {},
     "source": [
      "####`NULL` values"
     ]
    },
    {
     "cell_type": "markdown",
     "metadata": {},
     "source": [
      "<div align=\"center\">\n",
      "<img src=\"http://shawnhero.github.io/Graph/missing.png\" style=\"height:800px\" alt=\"test\"/>\n",
      "</div>"
     ]
    },
    {
     "cell_type": "markdown",
     "metadata": {},
     "source": [
      "We developed three methods to deal with `NULL` values, depending on which colmun they belong to.\n",
      "\n",
      "\n",
      "    1. Assign a 0 (e.g. review score)\n",
      "    2. Assign the minimum value of that column (e.g. property location score)\n",
      "    3. Assign the average value of that column (e.g. user's history star rating)\n",
      "    \n",
      "<div align=\"center\">\n",
      "<img src=\"http://shawnhero.github.io/Graph/navalues.png\" style=\"width:800px\" alt=\"test\"/>\n",
      "</div>"
     ]
    },
    {
     "cell_type": "markdown",
     "metadata": {},
     "source": [
      "And finally we got our correlation level map.\n",
      "<div align=\"center\">\n",
      "<!-- <img src=\"http://shawnhero.github.io/Graph/missing.png\" style=\"height:800px\" alt=\"test\"/> -->\n",
      "<img src=\"http://shawnhero.github.io/Graph/total_cor.jpg\" style=\"width:800px\" alt=\"test\"/>\n",
      "</div>"
     ]
    },
    {
     "cell_type": "markdown",
     "metadata": {},
     "source": [
      "###Features visualization\n",
      "\n",
      "####Price in USD\n",
      "\n",
      "<div align=\"center\">\n",
      "price_usd_distribution - booking\n",
      "<img src=\"http://aaronice.github.io/graph/booking_price_usd_distribution.png\" style=\"width:450px\" alt=\"test\"/> <br>\n",
      "\n",
      "price_usd_distribution - click\n",
      "<img src=\"http://aaronice.github.io/graph/click_price_usd_distribution.png\" style=\"width:450px\" alt=\"test\"/>\n",
      "</div>\n",
      "\n"
     ]
    },
    {
     "cell_type": "markdown",
     "metadata": {},
     "source": [
      "####Hotel Display Position\n",
      "\n",
      "<div align=\"center\">\n",
      "<img src=\"http://aaronice.github.io/graph/click_booking_all_vs_position_v2.png\" style=\"width:650px\" alt=\"test\"/>\n",
      "</div>\n",
      "\n",
      "Where Red indicates booking, Blue indicates click, Green indicates the overall dataset. \n",
      "\n",
      "For a returned list of hotel, the higher the position, the more likely it will be clicked or purchased."
     ]
    },
    {
     "cell_type": "markdown",
     "metadata": {},
     "source": []
    },
    {
     "cell_type": "markdown",
     "metadata": {},
     "source": [
      "####Choose the Features\n",
      "So how to determine which features we are going to use? Our na\u00efve approach is to drop features having high correlations. We categorized all the features into 4 groups. Here is one example group.\n",
      "\n",
      "<div align=\"center\">\n",
      "<img src=\"http://shawnhero.github.io/Graph/vistor_cor.jpg\" style=\"width:800px\" alt=\"test\"/>\n",
      "</div>"
     ]
    },
    {
     "cell_type": "markdown",
     "metadata": {},
     "source": [
      "###Drop Unnecessary Features\n",
      "\n",
      "Some features in the data set have minor effect on the booking and clicking decision.\n",
      "A representative example is `time`.\n",
      "<div align=\"center\">\n",
      "<img src=\"http://shawnhero.github.io/Graph/hist_dataB.png\" style=\"width:500px\" alt=\"test\"/>\n",
      "<img src=\"http://shawnhero.github.io/Graph/hist_dataNB.png\" style=\"width:500px\" alt=\"test\"/>\n",
      "\n",
      "<img src=\"http://shawnhero.github.io/Graph/hist_dataC.png\" style=\"width:500px\" alt=\"test\"/>\n",
      "<img src=\"http://shawnhero.github.io/Graph/hist_dataNC.png\" style=\"width:500px\" alt=\"test\"/>\n",
      "</div>"
     ]
    },
    {
     "cell_type": "markdown",
     "metadata": {},
     "source": [
      "###Add New Features\n",
      "Furthurmore, we added two additional features[1] to improve our model precision.\n",
      "\n",
      "`mean(click_bool)`: the average value for clicking. This measures the popularity of a property.\n",
      "\n",
      "`sum(booking_bool)/sum(click_bool))`: the booking ratio of a hotel."
     ]
    },
    {
     "cell_type": "markdown",
     "metadata": {},
     "source": [
      "##Remedies for Severe Class Imbalance "
     ]
    },
    {
     "cell_type": "markdown",
     "metadata": {},
     "source": [
      "<div align=\"center\">\n",
      "<img src=\"http://shawnhero.github.io/Graph/ratio_imbalance.png\" style=\"width:400px\" alt=\"test\"/>\n",
      "</div>\n",
      "\n",
      "Therefore, in training dataset, the rows with non-zero clicking_bool or booking_bool values are chosen and then random sample the rest of the dataset and merge them into a balanced dataset."
     ]
    },
    {
     "cell_type": "markdown",
     "metadata": {},
     "source": [
      "###Proposed Methods"
     ]
    },
    {
     "cell_type": "markdown",
     "metadata": {},
     "source": [
      "<div align=\"center\">\n",
      "<img src=\"http://shawnhero.github.io/Graph/imbalance.png\" style=\"width:700px\" alt=\"test\"/>\n",
      "</div>"
     ]
    },
    {
     "cell_type": "markdown",
     "metadata": {},
     "source": [
      "1. For most models we use, additional weights could be added to each feature.\n",
      "2. We could extrat an sample from the training data set with roughly equal number of clicked samples and unclicked features(also booked features and unbooked features)."
     ]
    },
    {
     "cell_type": "markdown",
     "metadata": {},
     "source": [
      "##Candidate Training Model"
     ]
    },
    {
     "cell_type": "markdown",
     "metadata": {},
     "source": [
      "####Learning To Rank: http://en.wikipedia.org/wiki/Learning_to_rank\n",
      "\n",
      "\n",
      "<li>Non-linear (Ensemble Learning, Decision Tree Learning)</li>\n",
      "\n",
      "    Gradient Boosting Model\n",
      "    \n",
      "        Gradient Boosting Decision Tree (GBDT)\n",
      "        http://www.cnblogs.com/LeftNotEasy/archive/2011/01/02/machine-learning-boosting-and-gradient-boosting.html\n",
      "        Tutorial Video: http://vimeo.com/71992876\n",
      "    \n",
      "    RandomForest\n",
      "        a combination of tree predictors such that each tree depends on the values of a random vector sampled independently\n",
      "        http://oz.berkeley.edu/~breiman/randomforest2001.pdf\n",
      "        \n",
      "    LambdaMART\n",
      "        \n",
      "        based on Multiple Additive Regression Tree\n",
      "        MicrosoftResearch:http://research.microsoft.com/en-us/um/people/cburges/tech_reports/msr-tr-2010-82.pdf\n",
      "        http://jmlr.org/proceedings/papers/v14/burges11a/burges11a.pdf\n",
      "        RankLib Java package: http://sourceforge.net/p/lemur/wiki/RankLib%20How%20to%20use/\n",
      "\n",
      "<li>Linear</li>\n",
      "\n",
      "    Linear Regression\n",
      "    \n",
      "        difficult for categorical features\n",
      "        \n",
      "    SVM-Rank\n"
     ]
    },
    {
     "cell_type": "markdown",
     "metadata": {},
     "source": [
      "##Learn to Rank: Pointwise approach"
     ]
    },
    {
     "cell_type": "markdown",
     "metadata": {},
     "source": [
      "<div align=\"center\">\n",
      "<img src=\"http://shawnhero.github.io/Graph/ranking_model.png\" style=\"width:600px\" alt=\"test\"/>\n",
      "</div>"
     ]
    },
    {
     "cell_type": "markdown",
     "metadata": {},
     "source": [
      "##Learn to Rank: Listwise approach "
     ]
    },
    {
     "cell_type": "markdown",
     "metadata": {},
     "source": [
      "##Evaluation Methods"
     ]
    },
    {
     "cell_type": "markdown",
     "metadata": {},
     "source": [
      "<div align = \"center\">\n",
      "$DCG_k = \\sum\\limits_{i=k}\\dfrac{2^{rel_i}-1}{\\log_2{i}-1}$\n",
      "</div> <br><br>\n",
      "Where,  $rel_i =$ 5: for booked hotels,  1: for clicked hotels, 0: for all the rest"
     ]
    },
    {
     "cell_type": "markdown",
     "metadata": {},
     "source": [
      "###Self-Evaluation"
     ]
    },
    {
     "cell_type": "markdown",
     "metadata": {},
     "source": [
      "We extract a sample data set from the training data set and run the nDCG score using the following code."
     ]
    },
    {
     "cell_type": "code",
     "collapsed": false,
     "input": [
      "%%R\n",
      "## input data format\n",
      "# single srch id, propid, click, book\n",
      "maxDCG <- function (k, nbook, nclick){\n",
      "\tsum <-0\n",
      "\tfor(i in 1:k){\n",
      "\t\tif(i <= nbook){\n",
      "\t\t\trel <- 5\n",
      "\t\t}\n",
      "\t\telse if(i<=nclick){\n",
      "\t\t\trel <- 1\n",
      "\t\t}\n",
      "\t\telse{\n",
      "\t\t\trel <- 0\n",
      "\t\t}\n",
      "\t\tsum <- sum + (2^rel-1)/(log(i+1)/log(2))\n",
      "\t}\n",
      "\treturn(sum)\n",
      "}\n",
      "snDCG <- function (data){\n",
      "\tsum <- 0\n",
      "\tfor(i in 1:nrow(data)){\n",
      "\t\trel <- data[i,3] + 4*data[i,4]\n",
      "\t\tsum <- sum + (2^rel-1)/(log(i+1)/log(2))\n",
      "\t}\n",
      "\tsum <- sum/maxDCG(nrow(data), sum(data[,4]), sum(data[,3]))\n",
      "\treturn(sum)\n",
      "}\n",
      "nDCG <- function (data){\n",
      "\tstart <- 1\n",
      "\tdcgv <- NULL\n",
      "\tfor(i in 2:nrow(data)){\n",
      "\t\tif(data[i,1]!=data[i-1,1] | i==nrow(data)){\n",
      "\t\t\tdcgv <- c(dcgv, snDCG(data[start:(i-1),]))\n",
      "\t\t\tstart <- i\n",
      "\t\t}\n",
      "\t}\n",
      "\treturn(mean(dcgv))\n",
      "}"
     ],
     "language": "python",
     "metadata": {},
     "outputs": [],
     "prompt_number": 3
    },
    {
     "cell_type": "markdown",
     "metadata": {},
     "source": [
      "###Kaggle Evaluation"
     ]
    },
    {
     "cell_type": "markdown",
     "metadata": {},
     "source": [
      "It turned out that the score given by our self-evaluation and the kaggle's evalution score and very close to each other!"
     ]
    },
    {
     "cell_type": "markdown",
     "metadata": {},
     "source": [
      "##Current Results "
     ]
    },
    {
     "cell_type": "markdown",
     "metadata": {},
     "source": [
      "0.508, Ranked 35/337 in the leaderboard in Kaggle"
     ]
    },
    {
     "cell_type": "markdown",
     "metadata": {},
     "source": [
      "##Reference"
     ]
    },
    {
     "cell_type": "markdown",
     "metadata": {},
     "source": [
      "[1]Combination of Diverse Ranking Models for Personalized Expedia Hotel Searches: http://arxiv.org/pdf/1311.7679v1.pdf\n",
      "\n",
      "[2]Expedia Data Contest: https://www.kaggle.com/c/expedia-personalized-sort"
     ]
    }
   ],
   "metadata": {}
  }
 ]
}