{
 "metadata": {
  "name": "",
  "signature": "sha256:0307a0605e7d14e3e2eab80c0a024ac70b77fe809e75366b94ba41afe6735d76"
 },
 "nbformat": 3,
 "nbformat_minor": 0,
 "worksheets": [
  {
   "cells": [
    {
     "cell_type": "code",
     "collapsed": false,
     "input": [
      "import pandas as pd\n",
      "import numpy as np"
     ],
     "language": "python",
     "metadata": {},
     "outputs": [],
     "prompt_number": 1
    },
    {
     "cell_type": "code",
     "collapsed": false,
     "input": [
      "df = pd.DataFrame(np.random.randn(5, 3), index=['a', 'c', 'e', 'f', 'h'], columns=['one', 'two', 'three'])\n",
      "df[\"chda\"] = df[\"one\"]\n",
      "df"
     ],
     "language": "python",
     "metadata": {},
     "outputs": [
      {
       "metadata": {},
       "output_type": "pyout",
       "prompt_number": 196,
       "text": [
        "        one       two     three      chda\n",
        "a  2.157950  0.978573 -0.289001  2.157950\n",
        "c -0.870205 -0.453434 -0.657284 -0.870205\n",
        "e  0.375866  1.183020  0.155421  0.375866\n",
        "f  1.350675  1.591506 -0.577405  1.350675\n",
        "h  1.300434 -0.667122 -0.649656  1.300434\n",
        "\n",
        "[5 rows x 4 columns]"
       ]
      }
     ],
     "prompt_number": 196
    },
    {
     "cell_type": "code",
     "collapsed": false,
     "input": [
      "df['two'][1]=np.nan"
     ],
     "language": "python",
     "metadata": {},
     "outputs": [],
     "prompt_number": 3
    },
    {
     "cell_type": "code",
     "collapsed": false,
     "input": [
      "df['two'][1]"
     ],
     "language": "python",
     "metadata": {},
     "outputs": [
      {
       "metadata": {},
       "output_type": "pyout",
       "prompt_number": 4,
       "text": [
        "nan"
       ]
      }
     ],
     "prompt_number": 4
    },
    {
     "cell_type": "code",
     "collapsed": false,
     "input": [
      "## sum \n",
      "print(sum(df[\"two\"]))\n",
      "print(df[\"two\"].sum())"
     ],
     "language": "python",
     "metadata": {},
     "outputs": [
      {
       "output_type": "stream",
       "stream": "stdout",
       "text": [
        "nan\n",
        "-1.22875749834\n"
       ]
      }
     ],
     "prompt_number": 5
    },
    {
     "cell_type": "code",
     "collapsed": false,
     "input": [
      "df[\"two\"].max()"
     ],
     "language": "python",
     "metadata": {},
     "outputs": [
      {
       "metadata": {},
       "output_type": "pyout",
       "prompt_number": 6,
       "text": [
        "0.98971501479274326"
       ]
      }
     ],
     "prompt_number": 6
    },
    {
     "cell_type": "code",
     "collapsed": false,
     "input": [
      "df"
     ],
     "language": "python",
     "metadata": {},
     "outputs": [
      {
       "html": [
        "<div style=\"max-height:1000px;max-width:1500px;overflow:auto;\">\n",
        "<table border=\"1\" class=\"dataframe\">\n",
        "  <thead>\n",
        "    <tr style=\"text-align: right;\">\n",
        "      <th></th>\n",
        "      <th>one</th>\n",
        "      <th>two</th>\n",
        "      <th>three</th>\n",
        "    </tr>\n",
        "  </thead>\n",
        "  <tbody>\n",
        "    <tr>\n",
        "      <th>a</th>\n",
        "      <td> 0.042930</td>\n",
        "      <td>-1.616974</td>\n",
        "      <td>-0.833241</td>\n",
        "    </tr>\n",
        "    <tr>\n",
        "      <th>c</th>\n",
        "      <td>-0.210116</td>\n",
        "      <td>      NaN</td>\n",
        "      <td> 0.072328</td>\n",
        "    </tr>\n",
        "    <tr>\n",
        "      <th>e</th>\n",
        "      <td> 1.361188</td>\n",
        "      <td> 0.116686</td>\n",
        "      <td>-1.684451</td>\n",
        "    </tr>\n",
        "    <tr>\n",
        "      <th>f</th>\n",
        "      <td> 0.969265</td>\n",
        "      <td>-0.718184</td>\n",
        "      <td> 0.213769</td>\n",
        "    </tr>\n",
        "    <tr>\n",
        "      <th>h</th>\n",
        "      <td>-0.060387</td>\n",
        "      <td> 0.989715</td>\n",
        "      <td> 1.565593</td>\n",
        "    </tr>\n",
        "  </tbody>\n",
        "</table>\n",
        "<p>5 rows \u00d7 3 columns</p>\n",
        "</div>"
       ],
       "metadata": {},
       "output_type": "pyout",
       "prompt_number": 7,
       "text": [
        "        one       two     three\n",
        "a  0.042930 -1.616974 -0.833241\n",
        "c -0.210116       NaN  0.072328\n",
        "e  1.361188  0.116686 -1.684451\n",
        "f  0.969265 -0.718184  0.213769\n",
        "h -0.060387  0.989715  1.565593\n",
        "\n",
        "[5 rows x 3 columns]"
       ]
      }
     ],
     "prompt_number": 7
    },
    {
     "cell_type": "code",
     "collapsed": false,
     "input": [
      "df['two'].fillna(0,inplace=True)"
     ],
     "language": "python",
     "metadata": {},
     "outputs": [],
     "prompt_number": 8
    },
    {
     "cell_type": "code",
     "collapsed": false,
     "input": [
      "df"
     ],
     "language": "python",
     "metadata": {},
     "outputs": [
      {
       "html": [
        "<div style=\"max-height:1000px;max-width:1500px;overflow:auto;\">\n",
        "<table border=\"1\" class=\"dataframe\">\n",
        "  <thead>\n",
        "    <tr style=\"text-align: right;\">\n",
        "      <th></th>\n",
        "      <th>one</th>\n",
        "      <th>two</th>\n",
        "      <th>three</th>\n",
        "    </tr>\n",
        "  </thead>\n",
        "  <tbody>\n",
        "    <tr>\n",
        "      <th>a</th>\n",
        "      <td> 0.042930</td>\n",
        "      <td>-1.616974</td>\n",
        "      <td>-0.833241</td>\n",
        "    </tr>\n",
        "    <tr>\n",
        "      <th>c</th>\n",
        "      <td>-0.210116</td>\n",
        "      <td> 0.000000</td>\n",
        "      <td> 0.072328</td>\n",
        "    </tr>\n",
        "    <tr>\n",
        "      <th>e</th>\n",
        "      <td> 1.361188</td>\n",
        "      <td> 0.116686</td>\n",
        "      <td>-1.684451</td>\n",
        "    </tr>\n",
        "    <tr>\n",
        "      <th>f</th>\n",
        "      <td> 0.969265</td>\n",
        "      <td>-0.718184</td>\n",
        "      <td> 0.213769</td>\n",
        "    </tr>\n",
        "    <tr>\n",
        "      <th>h</th>\n",
        "      <td>-0.060387</td>\n",
        "      <td> 0.989715</td>\n",
        "      <td> 1.565593</td>\n",
        "    </tr>\n",
        "  </tbody>\n",
        "</table>\n",
        "<p>5 rows \u00d7 3 columns</p>\n",
        "</div>"
       ],
       "metadata": {},
       "output_type": "pyout",
       "prompt_number": 9,
       "text": [
        "        one       two     three\n",
        "a  0.042930 -1.616974 -0.833241\n",
        "c -0.210116  0.000000  0.072328\n",
        "e  1.361188  0.116686 -1.684451\n",
        "f  0.969265 -0.718184  0.213769\n",
        "h -0.060387  0.989715  1.565593\n",
        "\n",
        "[5 rows x 3 columns]"
       ]
      }
     ],
     "prompt_number": 9
    },
    {
     "cell_type": "code",
     "collapsed": false,
     "input": [
      "df[\"three\"][2]= np.nan\n",
      "df"
     ],
     "language": "python",
     "metadata": {},
     "outputs": [
      {
       "html": [
        "<div style=\"max-height:1000px;max-width:1500px;overflow:auto;\">\n",
        "<table border=\"1\" class=\"dataframe\">\n",
        "  <thead>\n",
        "    <tr style=\"text-align: right;\">\n",
        "      <th></th>\n",
        "      <th>one</th>\n",
        "      <th>two</th>\n",
        "      <th>three</th>\n",
        "    </tr>\n",
        "  </thead>\n",
        "  <tbody>\n",
        "    <tr>\n",
        "      <th>a</th>\n",
        "      <td> 0.042930</td>\n",
        "      <td>-1.616974</td>\n",
        "      <td>-0.833241</td>\n",
        "    </tr>\n",
        "    <tr>\n",
        "      <th>c</th>\n",
        "      <td>-0.210116</td>\n",
        "      <td> 0.000000</td>\n",
        "      <td> 0.072328</td>\n",
        "    </tr>\n",
        "    <tr>\n",
        "      <th>e</th>\n",
        "      <td> 1.361188</td>\n",
        "      <td> 0.116686</td>\n",
        "      <td>      NaN</td>\n",
        "    </tr>\n",
        "    <tr>\n",
        "      <th>f</th>\n",
        "      <td> 0.969265</td>\n",
        "      <td>-0.718184</td>\n",
        "      <td> 0.213769</td>\n",
        "    </tr>\n",
        "    <tr>\n",
        "      <th>h</th>\n",
        "      <td>-0.060387</td>\n",
        "      <td> 0.989715</td>\n",
        "      <td> 1.565593</td>\n",
        "    </tr>\n",
        "  </tbody>\n",
        "</table>\n",
        "<p>5 rows \u00d7 3 columns</p>\n",
        "</div>"
       ],
       "metadata": {},
       "output_type": "pyout",
       "prompt_number": 10,
       "text": [
        "        one       two     three\n",
        "a  0.042930 -1.616974 -0.833241\n",
        "c -0.210116  0.000000  0.072328\n",
        "e  1.361188  0.116686       NaN\n",
        "f  0.969265 -0.718184  0.213769\n",
        "h -0.060387  0.989715  1.565593\n",
        "\n",
        "[5 rows x 3 columns]"
       ]
      }
     ],
     "prompt_number": 10
    },
    {
     "cell_type": "code",
     "collapsed": false,
     "input": [
      "pd.isnull(df).sum().sum()"
     ],
     "language": "python",
     "metadata": {},
     "outputs": [
      {
       "metadata": {},
       "output_type": "pyout",
       "prompt_number": 11,
       "text": [
        "1"
       ]
      }
     ],
     "prompt_number": 11
    },
    {
     "cell_type": "code",
     "collapsed": false,
     "input": [
      "df[\"three\"][pd.notnull(df[\"three\"])]"
     ],
     "language": "python",
     "metadata": {},
     "outputs": [
      {
       "metadata": {},
       "output_type": "pyout",
       "prompt_number": 12,
       "text": [
        "a   -0.833241\n",
        "c    0.072328\n",
        "f    0.213769\n",
        "h    1.565593\n",
        "Name: three, dtype: float64"
       ]
      }
     ],
     "prompt_number": 12
    },
    {
     "cell_type": "code",
     "collapsed": false,
     "input": [
      "names = list(df.columns)\n",
      "names"
     ],
     "language": "python",
     "metadata": {},
     "outputs": [
      {
       "metadata": {},
       "output_type": "pyout",
       "prompt_number": 13,
       "text": [
        "['one', 'two', 'three']"
       ]
      }
     ],
     "prompt_number": 13
    },
    {
     "cell_type": "code",
     "collapsed": false,
     "input": [
      "import data_io\n",
      "train = data_io.read_train()"
     ],
     "language": "python",
     "metadata": {},
     "outputs": [
      {
       "output_type": "stream",
       "stream": "stdout",
       "text": [
        "Reading training data\n",
        "Time used,"
       ]
      },
      {
       "output_type": "stream",
       "stream": "stdout",
       "text": [
        "\n",
        "0:01:43.019497\n"
       ]
      }
     ],
     "prompt_number": 191
    },
    {
     "cell_type": "code",
     "collapsed": false,
     "input": [
      "feature_names = list(train.columns)[:27]\n",
      "train[:10000]['srch_id'].mean()"
     ],
     "language": "python",
     "metadata": {},
     "outputs": [
      {
       "metadata": {},
       "output_type": "pyout",
       "prompt_number": 15,
       "text": [
        "353.84269999999998"
       ]
      }
     ],
     "prompt_number": 15
    },
    {
     "cell_type": "code",
     "collapsed": false,
     "input": [
      "print(train[\"visitor_hist_starrating\"].describe())\n",
      "import matplotlib.pyplot as plt\n",
      "%matplotlib inline   \n",
      "# Set some Pandas options\n",
      "pd.set_option('display.notebook_repr_html', False)\n",
      "pd.set_option('display.max_columns', 20)\n",
      "pd.set_option('display.max_rows', 25)\n",
      "\n",
      "plt.figure();\n",
      "train[\"visitor_hist_starrating\"].hist()"
     ],
     "language": "python",
     "metadata": {},
     "outputs": [
      {
       "output_type": "stream",
       "stream": "stdout",
       "text": [
        "count    505297.000000\n",
        "mean          3.374634\n",
        "std           0.692218\n",
        "min           1.000000\n",
        "25%           2.920000\n",
        "50%           3.440000\n",
        "75%           3.940000\n",
        "max           5.000000\n",
        "Name: visitor_hist_starrating, dtype: float64\n"
       ]
      },
      {
       "metadata": {},
       "output_type": "pyout",
       "prompt_number": 16,
       "text": [
        "<matplotlib.axes.AxesSubplot at 0x10ba82d10>"
       ]
      },
      {
       "metadata": {},
       "output_type": "display_data",
       "png": "[encoded data removed]",
       "text": [
        "<matplotlib.figure.Figure at 0x10ba65590>"
       ]
      }
     ],
     "prompt_number": 16
    },
    {
     "cell_type": "code",
     "collapsed": false,
     "input": [
      "x = pd.isnull(train[\"visitor_hist_starrating\"]).sum()\n",
      "y = train.shape[0]\n",
      "print(x/(1.0*y))"
     ],
     "language": "python",
     "metadata": {},
     "outputs": [
      {
       "output_type": "stream",
       "stream": "stdout",
       "text": [
        "0.949050116309\n"
       ]
      }
     ],
     "prompt_number": 17
    },
    {
     "cell_type": "markdown",
     "metadata": {},
     "source": [
      "##Group BY"
     ]
    },
    {
     "cell_type": "markdown",
     "metadata": {},
     "source": [
      "###Booking Bool and Star Rate"
     ]
    },
    {
     "cell_type": "code",
     "collapsed": false,
     "input": [
      "df = pd.DataFrame({'A' : ['foo', 'bar', 'foo', 'bar',\n",
      "                        'foo', 'bar', 'foo', 'foo'],\n",
      "                  'B' : ['one', 'one', 'two', 'three',\n",
      "                        'two', 'two', 'one', 'three'],\n",
      "                 'C' : [0,1,0,1,1,1,0,0], 'D' : [1,2,3,3,2,5,4,1]})\n",
      "df"
     ],
     "language": "python",
     "metadata": {},
     "outputs": [
      {
       "metadata": {},
       "output_type": "pyout",
       "prompt_number": 79,
       "text": [
        "     A      B  C  D\n",
        "0  foo    one  0  1\n",
        "1  bar    one  1  2\n",
        "2  foo    two  0  3\n",
        "3  bar  three  1  3\n",
        "4  foo    two  1  2\n",
        "5  bar    two  1  5\n",
        "6  foo    one  0  4\n",
        "7  foo  three  0  1\n",
        "\n",
        "[8 rows x 4 columns]"
       ]
      }
     ],
     "prompt_number": 79
    },
    {
     "cell_type": "code",
     "collapsed": false,
     "input": [
      "train['visitor_hist_starrating'].hist(by=train['booking_bool'], sharex =True)"
     ],
     "language": "python",
     "metadata": {},
     "outputs": [
      {
       "metadata": {},
       "output_type": "pyout",
       "prompt_number": 29,
       "text": [
        "array([<matplotlib.axes.AxesSubplot object at 0x1099a1990>,\n",
        "       <matplotlib.axes.AxesSubplot object at 0x109a86b50>], dtype=object)"
       ]
      },
      {
       "metadata": {},
       "output_type": "display_data",
       "png": "[encoded data removed]",
       "text": [
        "<matplotlib.figure.Figure at 0x10db5af10>"
       ]
      }
     ],
     "prompt_number": 29
    },
    {
     "cell_type": "code",
     "collapsed": false,
     "input": [
      "#train['visitor_hist_starrating'].fillna(-1,inplace=True)\n",
      "#train['visitor_hist_starrating'][train['visitor_hist_starrating']==-1] =  np.nan"
     ],
     "language": "python",
     "metadata": {},
     "outputs": [],
     "prompt_number": 42
    },
    {
     "cell_type": "code",
     "collapsed": false,
     "input": [
      "train[\"visitor_hist_starrating_integer\"] = np.round(train['visitor_hist_starrating'])"
     ],
     "language": "python",
     "metadata": {},
     "outputs": [],
     "prompt_number": 37
    },
    {
     "cell_type": "code",
     "collapsed": false,
     "input": [
      "train['visitor_hist_starrating_integer'].fillna(-1,inplace=True)\n",
      "#train['booking_bool'].hist(by=train['visitor_hist_starrating_integer'])\n",
      "rate_list = []\n",
      "per_list = []\n",
      "for rate, gp in train.groupby('visitor_hist_starrating_integer'):\n",
      "    rate_list.append(rate)\n",
      "    per_list.append(1.0*gp[\"booking_bool\"].sum()/gp.shape[0])"
     ],
     "language": "python",
     "metadata": {},
     "outputs": [],
     "prompt_number": 76
    },
    {
     "cell_type": "code",
     "collapsed": false,
     "input": [
      "df3 = pd.DataFrame(np.array([rate_list, per_list]), index=[\"rate\",\"per\"])\n",
      "df3 = df3.transpose()\n",
      "df3.plot(x=\"rate\", y=\"per\", kind=\"bar\")\n"
     ],
     "language": "python",
     "metadata": {},
     "outputs": [
      {
       "metadata": {},
       "output_type": "pyout",
       "prompt_number": 75,
       "text": [
        "<matplotlib.axes.AxesSubplot at 0x11936f790>"
       ]
      },
      {
       "metadata": {},
       "output_type": "display_data",
       "png": "[encoded data removed]",
       "text": [
        "<matplotlib.figure.Figure at 0x119430310>"
       ]
      }
     ],
     "prompt_number": 75
    },
    {
     "cell_type": "code",
     "collapsed": false,
     "input": [
      "per_list"
     ],
     "language": "python",
     "metadata": {},
     "outputs": [
      {
       "metadata": {},
       "output_type": "pyout",
       "prompt_number": 78,
       "text": [
        "[0.027454483967832077,\n",
        " 0.034722222222222224,\n",
        " 0.03657899566586196,\n",
        " 0.03623989881617036,\n",
        " 0.035597720616774284,\n",
        " 0.035965430243169255]"
       ]
      }
     ],
     "prompt_number": 78
    },
    {
     "cell_type": "markdown",
     "metadata": {},
     "source": [
      "###Click Bool and Star Rate"
     ]
    },
    {
     "cell_type": "code",
     "collapsed": false,
     "input": [
      "train['visitor_hist_starrating'].hist(by=train['click_bool'])"
     ],
     "language": "python",
     "metadata": {},
     "outputs": [
      {
       "metadata": {},
       "output_type": "pyout",
       "prompt_number": 80,
       "text": [
        "array([<matplotlib.axes.AxesSubplot object at 0x119777f50>,\n",
        "       <matplotlib.axes.AxesSubplot object at 0x119f40510>], dtype=object)"
       ]
      },
      {
       "metadata": {},
       "output_type": "display_data",
       "png": "[encoded data removed]",
       "text": [
        "<matplotlib.figure.Figure at 0x120d01b10>"
       ]
      }
     ],
     "prompt_number": 80
    },
    {
     "cell_type": "code",
     "collapsed": false,
     "input": [
      "for i, gb in train.groupby(\"click_bool\"):\n",
      "    print(i)\n",
      "    print(gb[\"visitor_hist_starrating\"].describe())"
     ],
     "language": "python",
     "metadata": {},
     "outputs": [
      {
       "output_type": "stream",
       "stream": "stdout",
       "text": [
        "0\n",
        "count    482921.000000\n",
        "mean          3.374276\n",
        "std           0.692048\n",
        "min           1.000000\n",
        "25%           2.920000\n",
        "50%           3.440000\n",
        "75%           3.940000\n",
        "max           5.000000\n",
        "Name: visitor_hist_starrating, dtype: float64"
       ]
      },
      {
       "output_type": "stream",
       "stream": "stdout",
       "text": [
        "\n",
        "1\n",
        "count    22376.000000\n",
        "mean         3.382377\n",
        "std          0.695851\n",
        "min          1.000000\n",
        "25%          2.930000\n",
        "50%          3.450000\n",
        "75%          3.960000\n",
        "max          5.000000\n",
        "Name: visitor_hist_starrating, dtype: float64\n"
       ]
      }
     ],
     "prompt_number": 82
    },
    {
     "cell_type": "code",
     "collapsed": false,
     "input": [
      "rate_list = []\n",
      "per_list = []\n",
      "for rate, gp in train.groupby('visitor_hist_starrating_integer'):\n",
      "    rate_list.append(rate)\n",
      "    per_list.append(1.0*gp[\"click_bool\"].sum()/gp.shape[0])"
     ],
     "language": "python",
     "metadata": {},
     "outputs": [],
     "prompt_number": 83
    },
    {
     "cell_type": "code",
     "collapsed": false,
     "input": [
      "df4 = pd.DataFrame(np.array([rate_list, per_list]), index=[\"rate\",\"per\"])\n",
      "df4 = df4.transpose()\n",
      "df4.plot(x=\"rate\", y=\"per\", kind=\"bar\")"
     ],
     "language": "python",
     "metadata": {},
     "outputs": [
      {
       "metadata": {},
       "output_type": "pyout",
       "prompt_number": 84,
       "text": [
        "<matplotlib.axes.AxesSubplot at 0x120676250>"
       ]
      },
      {
       "metadata": {},
       "output_type": "display_data",
       "png": "[encoded data removed]",
       "text": [
        "<matplotlib.figure.Figure at 0x119f61210>"
       ]
      }
     ],
     "prompt_number": 84
    },
    {
     "cell_type": "markdown",
     "metadata": {},
     "source": [
      "###Investigate the visitor_hist_adr_usd"
     ]
    },
    {
     "cell_type": "code",
     "collapsed": false,
     "input": [
      "train['visitor_hist_adr_usd'].hist(by=train['click_bool'])"
     ],
     "language": "python",
     "metadata": {},
     "outputs": [
      {
       "metadata": {},
       "output_type": "pyout",
       "prompt_number": 85,
       "text": [
        "array([<matplotlib.axes.AxesSubplot object at 0x119ceeed0>,\n",
        "       <matplotlib.axes.AxesSubplot object at 0x1194c0390>], dtype=object)"
       ]
      },
      {
       "metadata": {},
       "output_type": "display_data",
       "png": "[encoded data removed]",
       "text": [
        "<matplotlib.figure.Figure at 0x1204026d0>"
       ]
      }
     ],
     "prompt_number": 85
    },
    {
     "cell_type": "code",
     "collapsed": false,
     "input": [
      "train['visitor_hist_adr_usd'].hist(by=train['booking_bool'])"
     ],
     "language": "python",
     "metadata": {},
     "outputs": [
      {
       "metadata": {},
       "output_type": "pyout",
       "prompt_number": 87,
       "text": [
        "array([<matplotlib.axes.AxesSubplot object at 0x119ee87d0>,\n",
        "       <matplotlib.axes.AxesSubplot object at 0x1191935d0>], dtype=object)"
       ]
      },
      {
       "metadata": {},
       "output_type": "display_data",
       "png": "[encoded data removed]",
       "text": [
        "<matplotlib.figure.Figure at 0x119ee8d10>"
       ]
      }
     ],
     "prompt_number": 87
    },
    {
     "cell_type": "code",
     "collapsed": false,
     "input": [
      "\n",
      "for i, gb in train.groupby(\"click_bool\"):\n",
      "    if i:\n",
      "        C1 = gb[\"visitor_hist_adr_usd\"].describe().to_frame()\n",
      "    else:\n",
      "        C0 = gb[\"visitor_hist_adr_usd\"].describe().to_frame()\n",
      "for i, gb in train.groupby(\"booking_bool\"):\n",
      "    if i:\n",
      "        B1 = gb[\"visitor_hist_adr_usd\"].describe().to_frame()\n",
      "    else:\n",
      "        B0 = gb[\"visitor_hist_adr_usd\"].describe().to_frame()"
     ],
     "language": "python",
     "metadata": {},
     "outputs": [],
     "prompt_number": 163
    },
    {
     "cell_type": "code",
     "collapsed": false,
     "input": [
      "#pd.concat([C0,C1], axis=1)\n",
      "print(pd.concat([pd.concat([C0,C1], axis=1), pd.concat([B0,B1], axis=1)], axis=0))"
     ],
     "language": "python",
     "metadata": {},
     "outputs": [
      {
       "output_type": "stream",
       "stream": "stdout",
       "text": [
        "       visitor_hist_adr_usd  visitor_hist_adr_usd\n",
        "count         485127.000000          22485.000000\n",
        "mean             176.510892            178.263211\n",
        "std              108.311675            111.048246\n",
        "min                0.000000              0.000000\n",
        "25%              110.320000            111.090000\n",
        "50%              151.790000            152.810000\n",
        "75%              214.280000            215.680000\n",
        "max             2768.930000           2768.930000\n",
        "count         489344.000000          18268.000000\n",
        "mean             176.562282            177.291135\n",
        "std              108.307990            111.780024\n",
        "min                0.000000              0.000000\n",
        "25%              110.330000            110.410000\n",
        "50%              151.830000            151.640000\n",
        "75%              214.380000            213.400000\n",
        "max             2768.930000           2768.930000\n",
        "\n",
        "[16 rows x 2 columns]\n"
       ]
      }
     ],
     "prompt_number": 184
    },
    {
     "cell_type": "markdown",
     "metadata": {},
     "source": [
      "####NA book rates and click rates against others"
     ]
    },
    {
     "cell_type": "code",
     "collapsed": false,
     "input": [
      "def nanrate(train, valname):\n",
      "    train[valname+\"_na\"] = pd.isnull(train[valname])\n",
      "    book_rate=[]\n",
      "    click_rate=[]\n",
      "    c_summary=[]\n",
      "    b_summary=[]\n",
      "    cond = []\n",
      "    for i, gb in train.groupby(valname+\"_na\"):\n",
      "        if i:\n",
      "            cond.append(1)\n",
      "        else:\n",
      "            cond.append(0)\n",
      "        book_rate.append(gb[\"booking_bool\"].mean())\n",
      "        click_rate.append(gb[\"click_bool\"].mean())\n",
      "        c_summary.append(gb[\"click_bool\"].describe())\n",
      "        b_summary.append(gb[\"booking_bool\"].describe())\n",
      "    df = pd.DataFrame(np.array([cond, click_rate, book_rate]), index=[\"Condition\",\"Click Rate\", \"Book Rate\"])\n",
      "    df = df.transpose()\n",
      "    #print(df)\n",
      "    df.plot( x=\"Condition\",kind=\"bar\")\n",
      "    locs, labels = plt.xticks()\n",
      "    plt.xticks(locs, [\"Not NULL\", \"NULL\"], size='small', rotation='horizontal')"
     ],
     "language": "python",
     "metadata": {},
     "outputs": [],
     "prompt_number": 192
    },
    {
     "cell_type": "code",
     "collapsed": false,
     "input": [
      "nanrate(train, \"visitor_hist_adr_usd\" )"
     ],
     "language": "python",
     "metadata": {},
     "outputs": [
      {
       "output_type": "stream",
       "stream": "stdout",
       "text": [
        "   Condition  Click Rate  Book Rate\n",
        "0          0    0.044296   0.035988\n",
        "1          1    0.044760   0.027452\n",
        "\n",
        "[2 rows x 3 columns]\n"
       ]
      },
      {
       "metadata": {},
       "output_type": "display_data",
       "png": "[encoded data removed]",
       "text": [
        "<matplotlib.figure.Figure at 0x119160ed0>"
       ]
      }
     ],
     "prompt_number": 197
    },
    {
     "cell_type": "code",
     "collapsed": false,
     "input": [
      "nanrate(train, \"visitor_hist_starrating\")"
     ],
     "language": "python",
     "metadata": {},
     "outputs": [
      {
       "output_type": "stream",
       "stream": "stdout",
       "text": [
        "   Condition  Click Rate  Book Rate\n",
        "0          0    0.044283   0.035989\n",
        "1          1    0.044760   0.027454\n",
        "\n",
        "[2 rows x 3 columns]\n"
       ]
      },
      {
       "metadata": {},
       "output_type": "display_data",
       "png": "[encoded data removed]",
       "text": [
        "<matplotlib.figure.Figure at 0x119281410>"
       ]
      }
     ],
     "prompt_number": 200
    },
    {
     "cell_type": "code",
     "collapsed": false,
     "input": [
      "nanrate(train, \"orig_destination_distance\")"
     ],
     "language": "python",
     "metadata": {},
     "outputs": [
      {
       "output_type": "stream",
       "stream": "stdout",
       "text": [
        "   Condition  Click Rate  Book Rate\n",
        "0          0    0.043918   0.027943\n",
        "1          1    0.046441   0.027777\n",
        "\n",
        "[2 rows x 3 columns]\n"
       ]
      },
      {
       "metadata": {},
       "output_type": "display_data",
       "png": "[encoded data removed]",
       "text": [
        "<matplotlib.figure.Figure at 0x120681090>"
       ]
      }
     ],
     "prompt_number": 201
    },
    {
     "cell_type": "code",
     "collapsed": false,
     "input": [],
     "language": "python",
     "metadata": {},
     "outputs": []
    }
   ],
   "metadata": {}
  }
 ]
}